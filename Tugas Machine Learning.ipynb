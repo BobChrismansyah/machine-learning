{
 "cells": [
  {
   "cell_type": "code",
   "execution_count": 1,
   "id": "ab6baf89",
   "metadata": {},
   "outputs": [
    {
     "name": "stdout",
     "output_type": "stream",
     "text": [
      "Collecting kaggle\n",
      "  Downloading kaggle-1.5.12.tar.gz (58 kB)\n",
      "\u001b[K     |████████████████████████████████| 58 kB 341 kB/s eta 0:00:011\n",
      "\u001b[?25hRequirement already satisfied: six>=1.10 in /home/bob/anaconda3/lib/python3.9/site-packages (from kaggle) (1.16.0)\n",
      "Requirement already satisfied: certifi in /home/bob/anaconda3/lib/python3.9/site-packages (from kaggle) (2021.10.8)\n",
      "Requirement already satisfied: python-dateutil in /home/bob/anaconda3/lib/python3.9/site-packages (from kaggle) (2.8.2)\n",
      "Requirement already satisfied: requests in /home/bob/anaconda3/lib/python3.9/site-packages (from kaggle) (2.27.1)\n",
      "Requirement already satisfied: tqdm in /home/bob/anaconda3/lib/python3.9/site-packages (from kaggle) (4.64.0)\n",
      "Requirement already satisfied: python-slugify in /home/bob/anaconda3/lib/python3.9/site-packages (from kaggle) (5.0.2)\n",
      "Requirement already satisfied: urllib3 in /home/bob/anaconda3/lib/python3.9/site-packages (from kaggle) (1.26.9)\n",
      "Requirement already satisfied: text-unidecode>=1.3 in /home/bob/anaconda3/lib/python3.9/site-packages (from python-slugify->kaggle) (1.3)\n",
      "Requirement already satisfied: charset-normalizer~=2.0.0 in /home/bob/anaconda3/lib/python3.9/site-packages (from requests->kaggle) (2.0.4)\n",
      "Requirement already satisfied: idna<4,>=2.5 in /home/bob/anaconda3/lib/python3.9/site-packages (from requests->kaggle) (3.3)\n",
      "Building wheels for collected packages: kaggle\n",
      "  Building wheel for kaggle (setup.py) ... \u001b[?25ldone\n",
      "\u001b[?25h  Created wheel for kaggle: filename=kaggle-1.5.12-py3-none-any.whl size=73049 sha256=c495161148dce4b1287cb7091bd40aedc78e4f925ae5804701f42e4f364691e1\n",
      "  Stored in directory: /home/bob/.cache/pip/wheels/ac/b2/c3/fa4706d469b5879105991d1c8be9a3c2ef329ba9fe2ce5085e\n",
      "Successfully built kaggle\n",
      "Installing collected packages: kaggle\n",
      "Successfully installed kaggle-1.5.12\n",
      "Note: you may need to restart the kernel to use updated packages.\n"
     ]
    }
   ],
   "source": [
    "pip install kaggle"
   ]
  },
  {
   "cell_type": "code",
   "execution_count": null,
   "id": "f5647af5",
   "metadata": {},
   "outputs": [],
   "source": [
    "#Latihan (1)"
   ]
  },
  {
   "cell_type": "code",
   "execution_count": 6,
   "id": "a5e20590",
   "metadata": {
    "scrolled": true
   },
   "outputs": [
    {
     "name": "stdout",
     "output_type": "stream",
     "text": [
      "Warning: Your Kaggle API key is readable by other users on this system! To fix this, you can run 'chmod 600 /home/bob/.kaggle/kaggle.json'\n",
      "ref                                                        title                                              size  lastUpdated          downloadCount  voteCount  usabilityRating  \n",
      "---------------------------------------------------------  ------------------------------------------------  -----  -------------------  -------------  ---------  ---------------  \n",
      "uciml/iris                                                 Iris Species                                        4KB  2016-09-27 07:38:05         312745       3073  0.7941176        \n",
      "arshid/iris-flower-dataset                                 Iris Flower Dataset                               1010B  2018-03-22 15:18:06          65758        501  0.8235294        \n",
      "vikrishnan/iris-dataset                                    Iris Dataset                                       999B  2017-08-03 16:00:44           4957         36  0.7647059        \n",
      "parulpandey/palmer-archipelago-antarctica-penguin-data     Palmer Archipelago (Antarctica) penguin data       11KB  2020-06-09 10:14:54          28466        241  0.9705882        \n",
      "chuckyin/iris-datasets                                     Iris datasets                                       1KB  2017-03-10 09:35:43           2302         18  0.7352941        \n",
      "therohk/ireland-historical-news                            Irish Times - Waxy-Wany News                       52MB  2021-09-25 10:52:48           3090        160  1.0              \n",
      "rtatman/iris-dataset-json-version                          Iris Dataset (JSON Version)                         1KB  2018-04-06 20:21:31           8745         56  0.75             \n",
      "jillanisofttech/iris-dataset-uci                           Iris dataset uci                                    1KB  2021-11-06 15:11:47            235         22  1.0              \n",
      "himanshunakrani/iris-dataset                               iris dataset                                      1006B  2022-07-20 18:50:06            225         20  1.0              \n",
      "fleanend/birds-songs-numeric-dataset                       Birds' Songs Numeric Dataset                       25MB  2019-04-01 09:09:46           1129         29  0.9411765        \n",
      "conorrot/irish-weather-hourly-data                         Irish Weather (hourly data)                        67MB  2020-06-29 20:15:18           2262         43  0.8235294        \n",
      "saurabh00007/iriscsv                                       Iris.csv                                            1KB  2017-11-09 07:34:35          31611         75  0.4117647        \n",
      "jeffheaton/iris-computer-vision                            Iris Computer Vision                                5MB  2020-11-24 21:23:29            614         15  0.875            \n",
      "kamrankausar/iris-data                                     iris_data                                           1KB  2017-11-30 10:26:01           1305         18  0.64705884       \n",
      "arslanali4343/iris-species                                 Iris Species                                        2KB  2020-07-02 06:09:09            104         14  0.5625           \n",
      "ashkhagan/palmer-penguins-datasetalternative-iris-dataset  Palmer Penguins Dataset-Alternative Iris Dataset    3KB  2020-06-30 06:30:43            629         13  0.8235294        \n",
      "styven/iris-dataset                                        Iris dataset                                        1KB  2017-11-04 14:10:12            879          8  0.29411766       \n",
      "naureenmohammad/mmu-iris-dataset                           MMU iris dataset                                   30MB  2020-07-25 18:38:33           1472         33  0.5625           \n",
      "shantanuss/iris-flower-dataset                             IRIS flower dataset                                 1KB  2020-01-18 19:43:18            453          4  0.9411765        \n",
      "olgabelitskaya/flower-color-images                         Flower Color Images                                50MB  2020-10-01 22:48:07          10691        179  0.75             \n"
     ]
    }
   ],
   "source": [
    "!kaggle datasets list -s Iris"
   ]
  },
  {
   "cell_type": "code",
   "execution_count": 7,
   "id": "3ca9ee09",
   "metadata": {
    "scrolled": true
   },
   "outputs": [
    {
     "name": "stdout",
     "output_type": "stream",
     "text": [
      "Warning: Your Kaggle API key is readable by other users on this system! To fix this, you can run 'chmod 600 /home/bob/.kaggle/kaggle.json'\n",
      "Downloading iris.zip to /home/bob/Downloads\n",
      "  0%|                                               | 0.00/3.60k [00:00<?, ?B/s]\n",
      "100%|██████████████████████████████████████| 3.60k/3.60k [00:00<00:00, 2.05MB/s]\n"
     ]
    }
   ],
   "source": [
    "!kaggle datasets download uciml/iris --unzip"
   ]
  },
  {
   "cell_type": "code",
   "execution_count": null,
   "id": "48132b57",
   "metadata": {},
   "outputs": [],
   "source": [
    "#Latihan(2)"
   ]
  },
  {
   "cell_type": "code",
   "execution_count": 8,
   "id": "6509b6ab",
   "metadata": {},
   "outputs": [],
   "source": [
    "import pandas as pd"
   ]
  },
  {
   "cell_type": "code",
   "execution_count": 10,
   "id": "d1b25445",
   "metadata": {},
   "outputs": [],
   "source": [
    "import numpy as np"
   ]
  },
  {
   "cell_type": "code",
   "execution_count": null,
   "id": "39a31262",
   "metadata": {},
   "outputs": [],
   "source": [
    "#latihan(3)"
   ]
  },
  {
   "cell_type": "code",
   "execution_count": 11,
   "id": "3035cb2a",
   "metadata": {},
   "outputs": [],
   "source": [
    "iris_data = pd.read_csv(r\"/home/bob/Downloads/Iris.csv\")"
   ]
  },
  {
   "cell_type": "code",
   "execution_count": null,
   "id": "70752ee7",
   "metadata": {
    "scrolled": true
   },
   "outputs": [],
   "source": []
  }
 ],
 "metadata": {
  "kernelspec": {
   "display_name": "Python 3 (ipykernel)",
   "language": "python",
   "name": "python3"
  },
  "language_info": {
   "codemirror_mode": {
    "name": "ipython",
    "version": 3
   },
   "file_extension": ".py",
   "mimetype": "text/x-python",
   "name": "python",
   "nbconvert_exporter": "python",
   "pygments_lexer": "ipython3",
   "version": "3.9.12"
  }
 },
 "nbformat": 4,
 "nbformat_minor": 5
}
